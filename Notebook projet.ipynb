{
 "cells": [
  {
   "cell_type": "code",
   "execution_count": 65,
   "metadata": {
    "collapsed": false
   },
   "outputs": [],
   "source": [
    "import pandas as pd\n",
    "import matplotlib.pyplot as plt\n",
    "import numpy as np\n",
    "%matplotlib inline  "
   ]
  },
  {
   "cell_type": "code",
   "execution_count": 46,
   "metadata": {
    "collapsed": false
   },
   "outputs": [],
   "source": [
    "df=pd.read_csv(\"Speed_Dating_Data.csv\", encoding = \"ISO-8859-1\")"
   ]
  },
  {
   "cell_type": "markdown",
   "metadata": {},
   "source": [
    "# Peut ont predire le succès d'un rdv en fonction de l'importance qu'un individu apporte a differentes qualités (Intelligence, Attirance, sincerité, Humour Ambition, Interet commun)?"
   ]
  },
  {
   "cell_type": "markdown",
   "metadata": {},
   "source": [
    "Une première idée serait d'essayer de voir si on peut predire la décision finale d'un type (est ce que il/elle veut revoir la personne qu'il a rencontré) en fonction de l'impression qu'a eu le type sur la personne et l'importance qu'il/elle apporte à differents critères.\n",
    "\n",
    "La décision finale est contenu dans la variable dec (1=yes, 0=no).\n",
    "\n",
    "L'importance que l'individu apporte aux differents critères sont contenue dans les variables: attr1_1 (Attractive), \n",
    "sinc1_1 (Sincere), intel1_1 (Intelligent),fun1_1 (Fun ),amb1_1 (Ambitious), shar1_1 (Shared Interests/Hobbies)  . La question etait la suivante: \"You have 100 points to distribute among the following attributes -- give more points to those attributes that are more important in a potential date, and fewer points to those attributes that are less important in a potential date.  Total points must equal 100.\" (ca c'est pour les vagues de 1 a 5 et de 10 a 21, sinon les gens repondent en donnant une note sur 10)\n",
    "\n",
    "Les notes attribuées sont contenus dans les variables: attr, sinc, intel, fun, amb, shar.\n"
   ]
  },
  {
   "cell_type": "markdown",
   "metadata": {},
   "source": [
    "On fait un nouveau data frame (df2) contenant toutes les variables qui nous interessent, on garde que les individus qui ont repondus a toutes les questions, sur une echelle de 100. list_var contient la liste de toutes les varaibles qui nous interressent."
   ]
  },
  {
   "cell_type": "code",
   "execution_count": 47,
   "metadata": {
    "collapsed": false
   },
   "outputs": [],
   "source": [
    "list_qual=[\"attr\",\"sinc\",\"intel\",\"fun\",\"amb\",\"shar\",\"dec\"]\n",
    "list_var=[i for i in df.columns if ((any(x in i for x in list_qual)&(\"1_1\" in i))| (i in list_qual))]\n",
    "df2=df[(df.wave<6)|(df.wave>9)]"
   ]
  },
  {
   "cell_type": "code",
   "execution_count": 48,
   "metadata": {
    "collapsed": false
   },
   "outputs": [],
   "source": [
    "df2=pd.concat([df2[[i]] for i in list_var],axis=1).dropna()"
   ]
  },
  {
   "cell_type": "markdown",
   "metadata": {},
   "source": [
    "La gueule du dataframe:"
   ]
  },
  {
   "cell_type": "code",
   "execution_count": 49,
   "metadata": {
    "collapsed": false
   },
   "outputs": [
    {
     "data": {
      "text/html": [
       "<div>\n",
       "<table border=\"1\" class=\"dataframe\">\n",
       "  <thead>\n",
       "    <tr style=\"text-align: right;\">\n",
       "      <th></th>\n",
       "      <th>attr1_1</th>\n",
       "      <th>sinc1_1</th>\n",
       "      <th>intel1_1</th>\n",
       "      <th>fun1_1</th>\n",
       "      <th>amb1_1</th>\n",
       "      <th>shar1_1</th>\n",
       "      <th>dec</th>\n",
       "      <th>attr</th>\n",
       "      <th>sinc</th>\n",
       "      <th>intel</th>\n",
       "      <th>fun</th>\n",
       "      <th>amb</th>\n",
       "      <th>shar</th>\n",
       "    </tr>\n",
       "  </thead>\n",
       "  <tbody>\n",
       "    <tr>\n",
       "      <th>0</th>\n",
       "      <td>15.0</td>\n",
       "      <td>20.0</td>\n",
       "      <td>20.0</td>\n",
       "      <td>15.0</td>\n",
       "      <td>15.0</td>\n",
       "      <td>15.0</td>\n",
       "      <td>1</td>\n",
       "      <td>6.0</td>\n",
       "      <td>9.0</td>\n",
       "      <td>7.0</td>\n",
       "      <td>7.0</td>\n",
       "      <td>6.0</td>\n",
       "      <td>5.0</td>\n",
       "    </tr>\n",
       "    <tr>\n",
       "      <th>1</th>\n",
       "      <td>15.0</td>\n",
       "      <td>20.0</td>\n",
       "      <td>20.0</td>\n",
       "      <td>15.0</td>\n",
       "      <td>15.0</td>\n",
       "      <td>15.0</td>\n",
       "      <td>1</td>\n",
       "      <td>7.0</td>\n",
       "      <td>8.0</td>\n",
       "      <td>7.0</td>\n",
       "      <td>8.0</td>\n",
       "      <td>5.0</td>\n",
       "      <td>6.0</td>\n",
       "    </tr>\n",
       "    <tr>\n",
       "      <th>2</th>\n",
       "      <td>15.0</td>\n",
       "      <td>20.0</td>\n",
       "      <td>20.0</td>\n",
       "      <td>15.0</td>\n",
       "      <td>15.0</td>\n",
       "      <td>15.0</td>\n",
       "      <td>1</td>\n",
       "      <td>5.0</td>\n",
       "      <td>8.0</td>\n",
       "      <td>9.0</td>\n",
       "      <td>8.0</td>\n",
       "      <td>5.0</td>\n",
       "      <td>7.0</td>\n",
       "    </tr>\n",
       "    <tr>\n",
       "      <th>3</th>\n",
       "      <td>15.0</td>\n",
       "      <td>20.0</td>\n",
       "      <td>20.0</td>\n",
       "      <td>15.0</td>\n",
       "      <td>15.0</td>\n",
       "      <td>15.0</td>\n",
       "      <td>1</td>\n",
       "      <td>7.0</td>\n",
       "      <td>6.0</td>\n",
       "      <td>8.0</td>\n",
       "      <td>7.0</td>\n",
       "      <td>6.0</td>\n",
       "      <td>8.0</td>\n",
       "    </tr>\n",
       "    <tr>\n",
       "      <th>4</th>\n",
       "      <td>15.0</td>\n",
       "      <td>20.0</td>\n",
       "      <td>20.0</td>\n",
       "      <td>15.0</td>\n",
       "      <td>15.0</td>\n",
       "      <td>15.0</td>\n",
       "      <td>1</td>\n",
       "      <td>5.0</td>\n",
       "      <td>6.0</td>\n",
       "      <td>7.0</td>\n",
       "      <td>7.0</td>\n",
       "      <td>6.0</td>\n",
       "      <td>6.0</td>\n",
       "    </tr>\n",
       "  </tbody>\n",
       "</table>\n",
       "</div>"
      ],
      "text/plain": [
       "   attr1_1  sinc1_1  intel1_1  fun1_1  amb1_1  shar1_1  dec  attr  sinc  \\\n",
       "0     15.0     20.0      20.0    15.0    15.0     15.0    1   6.0   9.0   \n",
       "1     15.0     20.0      20.0    15.0    15.0     15.0    1   7.0   8.0   \n",
       "2     15.0     20.0      20.0    15.0    15.0     15.0    1   5.0   8.0   \n",
       "3     15.0     20.0      20.0    15.0    15.0     15.0    1   7.0   6.0   \n",
       "4     15.0     20.0      20.0    15.0    15.0     15.0    1   5.0   6.0   \n",
       "\n",
       "   intel  fun  amb  shar  \n",
       "0    7.0  7.0  6.0   5.0  \n",
       "1    7.0  8.0  5.0   6.0  \n",
       "2    9.0  8.0  5.0   7.0  \n",
       "3    8.0  7.0  6.0   8.0  \n",
       "4    7.0  7.0  6.0   6.0  "
      ]
     },
     "execution_count": 49,
     "metadata": {},
     "output_type": "execute_result"
    }
   ],
   "source": [
    "df2.head()"
   ]
  },
  {
   "cell_type": "markdown",
   "metadata": {},
   "source": [
    "Maintenant il faut verifier que la somme des varialbes vaut bien 100, et supprimer les individus qui savent pas compter. On voit bien ci dessous que yen a , on va dire qu'on tej que 120 148 90 110 et 95"
   ]
  },
  {
   "cell_type": "code",
   "execution_count": 50,
   "metadata": {
    "collapsed": false
   },
   "outputs": [],
   "source": [
    "df2[\"somme\"]=df2.attr1_1+ df2.sinc1_1+df2.intel1_1+df2.amb1_1+df2.shar1_1 +df2.fun1_1\n",
    "df2.somme.unique()\n",
    "df2=df2[(df2.somme<110)&(df2.somme>95)].drop(\"somme\",1)"
   ]
  },
  {
   "cell_type": "markdown",
   "metadata": {},
   "source": [
    "# La partie machine learning 1"
   ]
  },
  {
   "cell_type": "markdown",
   "metadata": {},
   "source": [
    "Dans cette partie on fait juste un arbre de decision sans faire de parameter fitting"
   ]
  },
  {
   "cell_type": "code",
   "execution_count": 51,
   "metadata": {
    "collapsed": false
   },
   "outputs": [],
   "source": [
    "from sklearn.tree import DecisionTreeClassifier\n",
    "from sklearn.ensemble import RandomForestClassifier\n",
    "from sklearn.metrics import confusion_matrix, f1_score"
   ]
  },
  {
   "cell_type": "markdown",
   "metadata": {},
   "source": [
    "On veut predire la variable dec (Y) en fonctions des autres variables contenu dans notre dataframe."
   ]
  },
  {
   "cell_type": "code",
   "execution_count": 52,
   "metadata": {
    "collapsed": false
   },
   "outputs": [],
   "source": [
    "train=df2.sample(frac=0.8,random_state=200)\n",
    "test=df2.drop(train.index)"
   ]
  },
  {
   "cell_type": "code",
   "execution_count": 53,
   "metadata": {
    "collapsed": true
   },
   "outputs": [],
   "source": [
    "Ytrain=train.dec.values\n",
    "Ytest=test.dec.values\n",
    "Xtrain=train.drop(\"dec\",1).values\n",
    "Xtest=test.drop(\"dec\",1).values"
   ]
  },
  {
   "cell_type": "code",
   "execution_count": 54,
   "metadata": {
    "collapsed": false
   },
   "outputs": [],
   "source": [
    "clf1=DecisionTreeClassifier()\n",
    "clf2=RandomForestClassifier()"
   ]
  },
  {
   "cell_type": "code",
   "execution_count": 55,
   "metadata": {
    "collapsed": false
   },
   "outputs": [
    {
     "data": {
      "text/plain": [
       "RandomForestClassifier(bootstrap=True, class_weight=None, criterion='gini',\n",
       "            max_depth=None, max_features='auto', max_leaf_nodes=None,\n",
       "            min_samples_leaf=1, min_samples_split=2,\n",
       "            min_weight_fraction_leaf=0.0, n_estimators=10, n_jobs=1,\n",
       "            oob_score=False, random_state=None, verbose=0,\n",
       "            warm_start=False)"
      ]
     },
     "execution_count": 55,
     "metadata": {},
     "output_type": "execute_result"
    }
   ],
   "source": [
    "clf1.fit(Xtrain,Ytrain)\n",
    "clf2.fit(Xtrain,Ytrain)"
   ]
  },
  {
   "cell_type": "code",
   "execution_count": 56,
   "metadata": {
    "collapsed": false
   },
   "outputs": [],
   "source": [
    "Ypred1=clf1.predict(Xtest)\n",
    "Ypred2=clf2.predict(Xtest)"
   ]
  },
  {
   "cell_type": "markdown",
   "metadata": {},
   "source": [
    "Ci dessous la matrice de confusion, qui represente les true positives et true negative en diagonale normale et les false positive et false negative en diagonale inverse."
   ]
  },
  {
   "cell_type": "code",
   "execution_count": 57,
   "metadata": {
    "collapsed": false
   },
   "outputs": [
    {
     "name": "stdout",
     "output_type": "stream",
     "text": [
      "[[484 145]\n",
      " [158 320]]\n",
      "[[551  78]\n",
      " [163 315]]\n"
     ]
    }
   ],
   "source": [
    "print(confusion_matrix(Ytest,Ypred1))\n",
    "print(confusion_matrix(Ytest,Ypred2))"
   ]
  },
  {
   "cell_type": "markdown",
   "metadata": {},
   "source": [
    "le F1 score qui est pas top (on voit qu'il est meilleur quand on utilise un random forest plutot qu'un seul arbre de decision)"
   ]
  },
  {
   "cell_type": "code",
   "execution_count": 58,
   "metadata": {
    "collapsed": false
   },
   "outputs": [
    {
     "name": "stdout",
     "output_type": "stream",
     "text": [
      "0.67868504772 0.723306544202\n"
     ]
    }
   ],
   "source": [
    "print(f1_score(Ytest,Ypred1),f1_score(Ytest,Ypred2))"
   ]
  },
  {
   "cell_type": "markdown",
   "metadata": {},
   "source": [
    "# La partie parameter fitting"
   ]
  },
  {
   "cell_type": "markdown",
   "metadata": {},
   "source": [
    "On essaye de voir dans cette partie si en changeant les parametres, on peut obtenir un meilleur score. Faut trouver les meilleurs parametres possible"
   ]
  },
  {
   "cell_type": "code",
   "execution_count": 59,
   "metadata": {
    "collapsed": true
   },
   "outputs": [],
   "source": [
    "def split(frac,df):\n",
    "    train=df.sample(frac=frac,random_state=200)\n",
    "    test=df.drop(train.index)\n",
    "    return(train,test)\n",
    "def XY(train,test):\n",
    "    Ytrain=train.dec.values\n",
    "    Ytest=test.dec.values\n",
    "    Xtrain=train.drop(\"dec\",1).values\n",
    "    Xtest=test.drop(\"dec\",1).values\n",
    "    return(Xtrain,Xtest,Ytrain,Ytest)\n",
    "def n_estimators(n,frac,df):\n",
    "    clf=RandomForestClassifier(n_estimators=n)\n",
    "    train,test=split(frac,df)\n",
    "    clf.fit(XY(train,test)[0], XY(train,test)[2])\n",
    "    Ypred=clf.predict(XY(train,test)[1])\n",
    "    return(f1_score(XY(train,test)[3],Ypred ))\n",
    "    \n",
    "    \n",
    "    "
   ]
  },
  {
   "cell_type": "code",
   "execution_count": 69,
   "metadata": {
    "collapsed": false
   },
   "outputs": [],
   "source": [
    "l=[]\n",
    "for i in range (2,100):\n",
    "    l.append(n_estimators(i,0.8,df2))\n",
    "    "
   ]
  },
  {
   "cell_type": "code",
   "execution_count": 70,
   "metadata": {
    "collapsed": false
   },
   "outputs": [
    {
     "data": {
      "text/plain": [
       "[<matplotlib.lines.Line2D at 0x1498a391630>]"
      ]
     },
     "execution_count": 70,
     "metadata": {},
     "output_type": "execute_result"
    },
    {
     "data": {
      "image/png": "[encoded data removed]",
      "text/plain": [
       "<matplotlib.figure.Figure at 0x1498a2df668>"
      ]
     },
     "metadata": {},
     "output_type": "display_data"
    }
   ],
   "source": [
    "plt.plot(l)"
   ]
  },
  {
   "cell_type": "code",
   "execution_count": null,
   "metadata": {
    "collapsed": true
   },
   "outputs": [],
   "source": []
  },
  {
   "cell_type": "code",
   "execution_count": null,
   "metadata": {
    "collapsed": true
   },
   "outputs": [],
   "source": []
  }
 ],
 "metadata": {
  "anaconda-cloud": {},
  "kernelspec": {
   "display_name": "Python [conda root]",
   "language": "python",
   "name": "conda-root-py"
  },
  "language_info": {
   "codemirror_mode": {
    "name": "ipython",
    "version": 3
   },
   "file_extension": ".py",
   "mimetype": "text/x-python",
   "name": "python",
   "nbconvert_exporter": "python",
   "pygments_lexer": "ipython3",
   "version": "3.5.2"
  }
 },
 "nbformat": 4,
 "nbformat_minor": 1
}

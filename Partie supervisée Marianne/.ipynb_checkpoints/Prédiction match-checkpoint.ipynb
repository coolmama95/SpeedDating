{
 "cells": [
  {
   "cell_type": "markdown",
   "metadata": {},
   "source": [
    "Dans ce notebook, au lieu de prédire si une personne veut revoir une autre personne, nous essayons de predire si en fonction des reponses des deux individus concerné, un match vase realiser (c'est a dire que les deux personnes veulent se revoir)"
   ]
  },
  {
   "cell_type": "code",
   "execution_count": 264,
   "metadata": {
    "collapsed": true
   },
   "outputs": [],
   "source": [
    "import pandas as pd\n",
    "import matplotlib.pyplot as plt\n",
    "import numpy as np\n",
    "%matplotlib inline "
   ]
  },
  {
   "cell_type": "code",
   "execution_count": 265,
   "metadata": {
    "collapsed": true
   },
   "outputs": [],
   "source": [
    "table_id=pd.read_csv(\"Speed_Dating_Data.csv\", encoding = \"ISO-8859-1\")"
   ]
  },
  {
   "cell_type": "code",
   "execution_count": 266,
   "metadata": {
    "collapsed": false
   },
   "outputs": [],
   "source": [
    "list_qual=[\"attr\",\"sinc\",\"intel\",\"fun\",\"amb\",\"shar\",\"dec\",'iid','gender','age','field_cd','race','imprace','imprelig','date','go_out',\n",
    "   'sports','tvsports','exercise','dining','museums','art','hiking','gaming','clubbing','reading','tv','theater','movies','concerts','music','shopping','yoga',\n",
    "   'attr1_1', 'sinc1_1', 'intel1_1','fun1_1', 'amb1_1', 'shar1_1','attr3_1', 'sinc3_1', 'intel3_1','fun3_1', 'amb3_1',\"pid\"]\n",
    "table_id=table_id[(table_id.wave<6)|(table_id.wave>9)]\n",
    "table_id=table_id[list_qual]\n",
    "table_id[\"somme\"]=table_id.attr1_1+ table_id.sinc1_1+table_id.intel1_1+table_id.amb1_1+table_id.shar1_1 +table_id.fun1_1\n",
    "table_id=table_id[(table_id.somme<110)&(table_id.somme>95)].drop(\"somme\",1)\n",
    "table_id=table_id.dropna()\n",
    "table_id.pid=table_id.pid.astype(int)\n",
    "table_id[\"match\"]=table_id.iid.astype(str)+\"-\" + table_id.pid.astype(str)"
   ]
  },
  {
   "cell_type": "code",
   "execution_count": 267,
   "metadata": {
    "collapsed": true
   },
   "outputs": [],
   "source": [
    "liste_field = ['Law', 'Math', 'Social Science', 'Medical', 'Engineering', 'English', 'History', 'Finance',\n",
    "         'Education','Physics', 'Social Work', 'Undergard','Politics','Film','Arts','Languages','Architecture', 'Other']\n",
    "dico_field = {i:liste_field[i-1] for i in range(1,19)}\n",
    "table_dummies = pd.get_dummies(table_id['field_cd'])\n",
    "table_id = pd.concat([table_id, table_dummies], axis=1)\n",
    "table_id.drop('field_cd', axis=1, inplace=True)\n",
    "table_id.rename(columns=dico_field,inplace=True)"
   ]
  },
  {
   "cell_type": "code",
   "execution_count": 268,
   "metadata": {
    "collapsed": false
   },
   "outputs": [],
   "source": [
    "table_id2=table_id.copy()\n",
    "dic={i:i+\"_partner\" for i in table_id.columns}\n",
    "table_id2 = table_id2.rename(columns=dic)\n",
    "table_id2=table_id2.rename(columns={\"match_partner\":'match'})\n",
    "l=table_id.match.str.split(\"-\").values\n",
    "m=[]\n",
    "for i in l:\n",
    "    m.append(i[1]+\"-\"+i[0])\n",
    "table_id2.match= np.array(m)"
   ]
  },
  {
   "cell_type": "code",
   "execution_count": 269,
   "metadata": {
    "collapsed": false
   },
   "outputs": [],
   "source": [
    "table_id=pd.merge(table_id2,table_id,how=\"outer\",left_on='match',right_on='match').dropna()"
   ]
  },
  {
   "cell_type": "markdown",
   "metadata": {},
   "source": [
    "La variable \"success\" vaut 1 si il y a un match, zero sinon."
   ]
  },
  {
   "cell_type": "code",
   "execution_count": 270,
   "metadata": {
    "collapsed": false
   },
   "outputs": [],
   "source": [
    "table_id[\"success\"]=table_id.dec[table_id.dec_partner==1]\n",
    "table_id.success=np.nan_to_num(table_id.success)\n"
   ]
  },
  {
   "cell_type": "code",
   "execution_count": 279,
   "metadata": {
    "collapsed": true
   },
   "outputs": [],
   "source": [
    "def split(frac,df):\n",
    "    train=df.sample(frac=frac,random_state=200)\n",
    "    test=df.drop(train.index)\n",
    "    return(train,test)\n",
    "def XY(frac,df):\n",
    "    train,test=split(frac,df)\n",
    "    Ytrain=train.success.values\n",
    "    Ytest=test.success.values\n",
    "    Xtrain=train.drop([\"dec\",\"dec_partner\",\"iid\",\"iid_partner\",\"pid\",\"pid_partner\",\"match\",\"success\"],1).values\n",
    "    Xtest=test.drop([\"dec\",\"dec_partner\",\"iid\",\"iid_partner\",\"pid\",\"pid_partner\",\"match\",\"success\"],1).values\n",
    "    return(Xtrain,Xtest,Ytrain,Ytest)"
   ]
  },
  {
   "cell_type": "code",
   "execution_count": 280,
   "metadata": {
    "collapsed": true
   },
   "outputs": [],
   "source": [
    "from sklearn.tree import DecisionTreeClassifier\n",
    "from sklearn.ensemble import RandomForestClassifier\n",
    "from sklearn.metrics import f1_score, roc_curve, auc, confusion_matrix"
   ]
  },
  {
   "cell_type": "code",
   "execution_count": 281,
   "metadata": {
    "collapsed": true
   },
   "outputs": [],
   "source": [
    "Xtrain,Xtest,Ytrain,Ytest=XY(0.8,table_id)"
   ]
  },
  {
   "cell_type": "code",
   "execution_count": 282,
   "metadata": {
    "collapsed": false
   },
   "outputs": [
    {
     "name": "stdout",
     "output_type": "stream",
     "text": [
      "0.172972972973 0.983717012914\n"
     ]
    }
   ],
   "source": [
    "clf=RandomForestClassifier()\n",
    "clf.fit(Xtrain,Ytrain)\n",
    "Ypred=clf.predict(Xtest)\n",
    "print(f1_score(Ytest,Ypred),clf.score(Xtrain,Ytrain))"
   ]
  },
  {
   "cell_type": "code",
   "execution_count": 283,
   "metadata": {
    "collapsed": false
   },
   "outputs": [
    {
     "data": {
      "text/plain": [
       "array([[721,  20],\n",
       "       [133,  16]])"
      ]
     },
     "execution_count": 283,
     "metadata": {},
     "output_type": "execute_result"
    }
   ],
   "source": [
    "confusion_matrix(Ytest,Ypred)"
   ]
  },
  {
   "cell_type": "code",
   "execution_count": null,
   "metadata": {
    "collapsed": true
   },
   "outputs": [],
   "source": []
  }
 ],
 "metadata": {
  "kernelspec": {
   "display_name": "Python [conda root]",
   "language": "python",
   "name": "conda-root-py"
  },
  "language_info": {
   "codemirror_mode": {
    "name": "ipython",
    "version": 3
   },
   "file_extension": ".py",
   "mimetype": "text/x-python",
   "name": "python",
   "nbconvert_exporter": "python",
   "pygments_lexer": "ipython3",
   "version": "3.5.2"
  }
 },
 "nbformat": 4,
 "nbformat_minor": 1
}
